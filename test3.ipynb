{
 "cells": [
  {
   "cell_type": "code",
   "execution_count": 1,
   "metadata": {},
   "outputs": [],
   "source": [
    "import mediapipe as mp\n",
    "import cv2\n",
    "import numpy as np"
   ]
  },
  {
   "cell_type": "code",
   "execution_count": 9,
   "metadata": {},
   "outputs": [],
   "source": [
    "mp_pose = mp.solutions.pose\n",
    "pose = mp_pose.Pose(static_image_mode=True, min_detection_confidence=0.5)"
   ]
  },
  {
   "cell_type": "code",
   "execution_count": 10,
   "metadata": {},
   "outputs": [],
   "source": [
    "def get_pose_landmarks(image):\n",
    "    results = pose.process(cv2.cvtColor(image, cv2.COLOR_BGR2RGB))\n",
    "    if results.pose_landmarks:\n",
    "        return np.array([[lm.x, lm.y, lm.z] for lm in results.pose_landmarks.landmark])\n",
    "    return None"
   ]
  },
  {
   "cell_type": "code",
   "execution_count": 11,
   "metadata": {},
   "outputs": [],
   "source": [
    "def normalize_landmarks(landmarks):\n",
    "    if landmarks is None:\n",
    "        return None\n",
    "    # Use the hip as the origin for normalization\n",
    "    reference = landmarks[mp_pose.PoseLandmark.LEFT_HIP.value]\n",
    "    normalized = landmarks - reference\n",
    "    return normalized"
   ]
  },
  {
   "cell_type": "code",
   "execution_count": 5,
   "metadata": {},
   "outputs": [],
   "source": [
    "def calculate_similarity(landmarks1, landmarks2):\n",
    "    if landmarks1 is None or landmarks2 is None:\n",
    "        return float('inf')  # Return large value if one of the poses is missing\n",
    "    return np.linalg.norm(landmarks1 - landmarks2)"
   ]
  },
  {
   "cell_type": "code",
   "execution_count": 13,
   "metadata": {},
   "outputs": [],
   "source": [
    "image1 = cv2.imread('pose1.jpg')\n",
    "image2 = cv2.imread('pose2.jpg')"
   ]
  },
  {
   "cell_type": "code",
   "execution_count": 14,
   "metadata": {},
   "outputs": [
    {
     "name": "stderr",
     "output_type": "stream",
     "text": [
      "d:\\Software\\Anaconda\\conda\\Lib\\site-packages\\google\\protobuf\\symbol_database.py:55: UserWarning: SymbolDatabase.GetPrototype() is deprecated. Please use message_factory.GetMessageClass() instead. SymbolDatabase.GetPrototype() will be removed soon.\n",
      "  warnings.warn('SymbolDatabase.GetPrototype() is deprecated. Please '\n"
     ]
    }
   ],
   "source": [
    "landmarks1 = normalize_landmarks(get_pose_landmarks(image1))\n",
    "landmarks2 = normalize_landmarks(get_pose_landmarks(image2))"
   ]
  },
  {
   "cell_type": "code",
   "execution_count": 15,
   "metadata": {},
   "outputs": [],
   "source": [
    "similarity_score = calculate_similarity(landmarks1, landmarks2)"
   ]
  },
  {
   "cell_type": "code",
   "execution_count": 16,
   "metadata": {},
   "outputs": [
    {
     "name": "stdout",
     "output_type": "stream",
     "text": [
      "Poses are similar\n"
     ]
    }
   ],
   "source": [
    "threshold = 10.0\n",
    "if similarity_score < threshold:\n",
    "    print(\"Poses are similar\")\n",
    "else:\n",
    "    print(\"Poses are different\")"
   ]
  },
  {
   "cell_type": "code",
   "execution_count": 21,
   "metadata": {},
   "outputs": [
    {
     "name": "stdout",
     "output_type": "stream",
     "text": [
      "Poses are similar\n"
     ]
    },
    {
     "name": "stderr",
     "output_type": "stream",
     "text": [
      "d:\\Software\\Anaconda\\conda\\Lib\\site-packages\\google\\protobuf\\symbol_database.py:55: UserWarning: SymbolDatabase.GetPrototype() is deprecated. Please use message_factory.GetMessageClass() instead. SymbolDatabase.GetPrototype() will be removed soon.\n",
      "  warnings.warn('SymbolDatabase.GetPrototype() is deprecated. Please '\n"
     ]
    }
   ],
   "source": [
    "import mediapipe as mp\n",
    "import cv2\n",
    "import numpy as np\n",
    "\n",
    "# Initialize MediaPipe Pose\n",
    "mp_pose = mp.solutions.pose\n",
    "pose = mp_pose.Pose(static_image_mode=True, min_detection_confidence=0.5)\n",
    "\n",
    "# Function to extract landmarks\n",
    "def get_pose_landmarks(image):\n",
    "    results = pose.process(cv2.cvtColor(image, cv2.COLOR_BGR2RGB))\n",
    "    if results.pose_landmarks:\n",
    "        return np.array([[lm.x, lm.y, lm.z] for lm in results.pose_landmarks.landmark])\n",
    "    return None\n",
    "\n",
    "# Normalize landmarks: translation and scale\n",
    "def normalize_landmarks(landmarks):\n",
    "    if landmarks is None:\n",
    "        return None\n",
    "    # Reference points: left and right hips for scaling and origin\n",
    "    left_hip = landmarks[mp_pose.PoseLandmark.LEFT_HIP.value]\n",
    "    right_hip = landmarks[mp_pose.PoseLandmark.RIGHT_HIP.value]\n",
    "    \n",
    "    # Calculate the center of the hips\n",
    "    center_hip = (left_hip + right_hip) / 2.0\n",
    "    \n",
    "    # Translate all landmarks by the center of the hips (origin shift)\n",
    "    translated_landmarks = landmarks - center_hip\n",
    "    \n",
    "    # Scale by the distance between the hips\n",
    "    hip_distance = np.linalg.norm(left_hip - right_hip)\n",
    "    if hip_distance > 0:\n",
    "        scaled_landmarks = translated_landmarks / hip_distance\n",
    "    else:\n",
    "        scaled_landmarks = translated_landmarks\n",
    "    \n",
    "    return scaled_landmarks\n",
    "\n",
    "# Function to calculate cosine similarity between two poses\n",
    "def calculate_cosine_similarity(landmarks1, landmarks2):\n",
    "    if landmarks1 is None or landmarks2 is None:\n",
    "        return -1  # Return -1 if one of the poses is missing\n",
    "    # Flatten the landmarks arrays for comparison\n",
    "    landmarks1_flat = landmarks1.flatten()\n",
    "    landmarks2_flat = landmarks2.flatten()\n",
    "    \n",
    "    # Cosine similarity: (A.B) / (||A|| * ||B||)\n",
    "    dot_product = np.dot(landmarks1_flat, landmarks2_flat)\n",
    "    norm1 = np.linalg.norm(landmarks1_flat)\n",
    "    norm2 = np.linalg.norm(landmarks2_flat)\n",
    "    \n",
    "    if norm1 > 0 and norm2 > 0:\n",
    "        return dot_product / (norm1 * norm2)\n",
    "    else:\n",
    "        return -1\n",
    "\n",
    "# Load two images to compare\n",
    "image1 = cv2.imread('pose1.jpg')\n",
    "image2 = cv2.imread('pose4.jpg')\n",
    "\n",
    "# Get and normalize landmarks\n",
    "landmarks1 = normalize_landmarks(get_pose_landmarks(image1))\n",
    "landmarks2 = normalize_landmarks(get_pose_landmarks(image2))\n",
    "\n",
    "# Calculate similarity using cosine similarity\n",
    "cosine_similarity_score = calculate_cosine_similarity(landmarks1, landmarks2)\n",
    "\n",
    "# Set a threshold for similarity (close to 1 is more similar)\n",
    "threshold = 0.9\n",
    "if cosine_similarity_score > threshold:\n",
    "    print(\"Poses are similar\")\n",
    "else:\n",
    "    print(\"Poses are different\")\n"
   ]
  },
  {
   "cell_type": "code",
   "execution_count": 26,
   "metadata": {},
   "outputs": [
    {
     "name": "stdout",
     "output_type": "stream",
     "text": [
      "Poses are similar\n",
      "Angle difference: 14.9864614472785\n",
      "Angle-1: {'left_elbow': 112.4173565778314, 'right_elbow': 120.46038236837879, 'left_knee': 37.81285022178735, 'right_knee': 39.40597649804899, 'left_shoulder': 90.53360231508799, 'right_shoulder': 102.47793048862493}\n",
      "Angle -2: {'left_elbow': 111.1781221515685, 'right_elbow': 117.69917145447367, 'left_knee': 44.83271621777342, 'right_knee': 40.39754822228448, 'left_shoulder': 88.1385800792194, 'right_shoulder': 101.8983743376046}\n"
     ]
    }
   ],
   "source": [
    "import mediapipe as mp\n",
    "import cv2\n",
    "import numpy as np\n",
    "import math\n",
    "\n",
    "# Initialize MediaPipe Pose\n",
    "mp_pose = mp.solutions.pose\n",
    "pose = mp_pose.Pose(static_image_mode=True, min_detection_confidence=0.5)\n",
    "\n",
    "# Function to extract landmarks\n",
    "def get_pose_landmarks(image):\n",
    "    results = pose.process(cv2.cvtColor(image, cv2.COLOR_BGR2RGB))\n",
    "    if results.pose_landmarks:\n",
    "        return np.array([[lm.x, lm.y, lm.z] for lm in results.pose_landmarks.landmark])\n",
    "    return None\n",
    "\n",
    "# Function to calculate angle between three points\n",
    "def calculate_angle(a, b, c):\n",
    "    # a, b, c are points [x, y, z]\n",
    "    ba = np.array(a) - np.array(b)\n",
    "    bc = np.array(c) - np.array(b)\n",
    "    \n",
    "    # Cosine of the angle using dot product formula\n",
    "    cosine_angle = np.dot(ba, bc) / (np.linalg.norm(ba) * np.linalg.norm(bc))\n",
    "    \n",
    "    # Ensure cosine_angle stays in the range [-1, 1] to avoid numerical errors\n",
    "    cosine_angle = np.clip(cosine_angle, -1.0, 1.0)\n",
    "    \n",
    "    # Calculate the angle in degrees\n",
    "    angle = np.arccos(cosine_angle)\n",
    "    return np.degrees(angle)\n",
    "\n",
    "# Function to extract joint angles from landmarks\n",
    "def get_joint_angles(landmarks):\n",
    "    if landmarks is None:\n",
    "        return None\n",
    "    \n",
    "    # Define key joints for comparison\n",
    "    angles = {}\n",
    "    \n",
    "    # Example: Elbow angle (Shoulder-Elbow-Wrist)\n",
    "    angles['left_elbow'] = calculate_angle(landmarks[mp_pose.PoseLandmark.LEFT_SHOULDER.value],\n",
    "                                           landmarks[mp_pose.PoseLandmark.LEFT_ELBOW.value],\n",
    "                                           landmarks[mp_pose.PoseLandmark.LEFT_WRIST.value])\n",
    "\n",
    "    angles['right_elbow'] = calculate_angle(landmarks[mp_pose.PoseLandmark.RIGHT_SHOULDER.value],\n",
    "                                            landmarks[mp_pose.PoseLandmark.RIGHT_ELBOW.value],\n",
    "                                            landmarks[mp_pose.PoseLandmark.RIGHT_WRIST.value])\n",
    "\n",
    "    # Knee angle (Hip-Knee-Ankle)\n",
    "    angles['left_knee'] = calculate_angle(landmarks[mp_pose.PoseLandmark.LEFT_HIP.value],\n",
    "                                          landmarks[mp_pose.PoseLandmark.LEFT_KNEE.value],\n",
    "                                          landmarks[mp_pose.PoseLandmark.LEFT_ANKLE.value])\n",
    "\n",
    "    angles['right_knee'] = calculate_angle(landmarks[mp_pose.PoseLandmark.RIGHT_HIP.value],\n",
    "                                           landmarks[mp_pose.PoseLandmark.RIGHT_KNEE.value],\n",
    "                                           landmarks[mp_pose.PoseLandmark.RIGHT_ANKLE.value])\n",
    "    \n",
    "    # Shoulder angle (Hip-Shoulder-Elbow)\n",
    "    angles['left_shoulder'] = calculate_angle(landmarks[mp_pose.PoseLandmark.LEFT_HIP.value],\n",
    "                                              landmarks[mp_pose.PoseLandmark.LEFT_SHOULDER.value],\n",
    "                                              landmarks[mp_pose.PoseLandmark.LEFT_ELBOW.value])\n",
    "\n",
    "    angles['right_shoulder'] = calculate_angle(landmarks[mp_pose.PoseLandmark.RIGHT_HIP.value],\n",
    "                                               landmarks[mp_pose.PoseLandmark.RIGHT_SHOULDER.value],\n",
    "                                               landmarks[mp_pose.PoseLandmark.RIGHT_ELBOW.value])\n",
    "\n",
    "    return angles\n",
    "\n",
    "# Function to calculate the difference between two sets of joint angles\n",
    "def compare_angles(angles1, angles2):\n",
    "    if angles1 is None or angles2 is None:\n",
    "        return float('inf')  # Return large value if one of the sets is missing\n",
    "    \n",
    "    # Calculate the absolute difference for each angle\n",
    "    total_difference = 0\n",
    "    for key in angles1:\n",
    "        total_difference += abs(angles1[key] - angles2[key])\n",
    "    \n",
    "    return total_difference\n",
    "\n",
    "# Load two images to compare\n",
    "image1 = cv2.imread('pose1.jpg')\n",
    "image2 = cv2.imread('pose3.jpg')\n",
    "\n",
    "# Get landmarks for each pose\n",
    "landmarks1 = get_pose_landmarks(image1)\n",
    "landmarks2 = get_pose_landmarks(image2)\n",
    "\n",
    "# Get joint angles for each pose\n",
    "angles1 = get_joint_angles(landmarks1)\n",
    "angles2 = get_joint_angles(landmarks2)\n",
    "\n",
    "# Compare joint angles\n",
    "angle_difference = compare_angles(angles1, angles2)\n",
    "\n",
    "# Set a threshold to classify as similar\n",
    "threshold = 30.0  # Adjust this based on testing\n",
    "if angle_difference < threshold:\n",
    "    print(\"Poses are similar\")\n",
    "else:\n",
    "    print(\"Poses are different\")\n",
    "\n",
    "print(f\"Angle difference: {angle_difference}\")\n",
    "print(f\"Angle-1: {angles1}\")\n",
    "print(f\"Angle -2: {angles2}\")\n"
   ]
  }
 ],
 "metadata": {
  "kernelspec": {
   "display_name": "base",
   "language": "python",
   "name": "python3"
  },
  "language_info": {
   "codemirror_mode": {
    "name": "ipython",
    "version": 3
   },
   "file_extension": ".py",
   "mimetype": "text/x-python",
   "name": "python",
   "nbconvert_exporter": "python",
   "pygments_lexer": "ipython3",
   "version": "3.11.5"
  }
 },
 "nbformat": 4,
 "nbformat_minor": 2
}
